{
 "cells": [
  {
   "cell_type": "markdown",
   "id": "31f42747",
   "metadata": {},
   "source": [
    "# 数据处理"
   ]
  },
  {
   "cell_type": "code",
   "execution_count": 1,
   "id": "7a77a878",
   "metadata": {},
   "outputs": [
    {
     "name": "stderr",
     "output_type": "stream",
     "text": [
      "100%|██████████| 9.91M/9.91M [00:01<00:00, 5.89MB/s]\n",
      "100%|██████████| 28.9k/28.9k [00:00<00:00, 311kB/s]\n",
      "100%|██████████| 1.65M/1.65M [00:00<00:00, 1.92MB/s]\n",
      "100%|██████████| 4.54k/4.54k [00:00<00:00, 502kB/s]"
     ]
    },
    {
     "name": "stdout",
     "output_type": "stream",
     "text": [
      "60000\n",
      "torch.Size([1, 256, 256]) 5\n"
     ]
    },
    {
     "name": "stderr",
     "output_type": "stream",
     "text": [
      "\n"
     ]
    }
   ],
   "source": [
    "from torchvision import datasets, transforms\n",
    "\n",
    "# 定义预处理：调整大小 + 转为张量\n",
    "transform = transforms.Compose([\n",
    "    transforms.Resize((256, 256)),\n",
    "    transforms.ToTensor()\n",
    "])\n",
    "\n",
    "# 下载并加载 MNIST 数据集\n",
    "mnist_dataset = datasets.MNIST(root='./mnist', train=True, transform=transform, download=True)\n",
    "\n",
    "# 查看数据集大小\n",
    "print(len(mnist_dataset))\n",
    "\n",
    "# 访问第一个样本\n",
    "image, label = mnist_dataset[0]\n",
    "print(image.shape, label)\n"
   ]
  },
  {
   "cell_type": "markdown",
   "id": "b03fa5c2",
   "metadata": {},
   "source": [
    "# 数据增强"
   ]
  },
  {
   "cell_type": "markdown",
   "id": "d8940773",
   "metadata": {},
   "source": [
    "- CenterCrop：中心裁剪图像为指定大小。\n",
    "- ColorJitter：随机调整图像的亮度、对比度、饱和度和色调。\n",
    "- FiveCrop：从图像的四个角和中心裁剪出5个指定大小的图像。\n",
    "- Grayscale：将图像转换为灰度图像。\n",
    "- Lambda：应用自定义的lambda函数。\n",
    "- LinearTransformation：对图像进行线性变换。\n",
    "- Normalize：标准化图像。\n",
    "- Pad：用指定值填充图像。\n",
    "- RandomAffine：随机仿射变换。\n",
    "- RandomApply：随机应用一组变换。\n",
    "- RandomChoice：随机选择一组变换中的一个应用。\n",
    "- RandomCrop：随机裁剪图像为指定大小。\n",
    "- RandomErasing：随机擦除图像的一部分。\n",
    "- RandomGrayscale：随机将图像转换为灰度图像。\n",
    "- RandomHorizontalFlip：随机水平翻转图像。\n",
    "- RandomOrder：随机应用一组变换中的变换。\n",
    "- RandomPerspective：随机透视变换。\n",
    "- RandomResizedCrop：随机裁剪并调整图像大小。\n",
    "- RandomRotation：随机旋转图像。\n",
    "- RandomVerticalFlip：随机垂直翻转图像。\n",
    "- Resize：调整图像大小。\n",
    "- TenCrop：从图像的四个角和中心裁剪出10个指定大小的图像。\n",
    "- ToPILImage：将PyTorch张量转换为PIL图像。\n",
    "- ToTensor：将PIL图像转换为PyTorch张量。"
   ]
  }
 ],
 "metadata": {
  "kernelspec": {
   "display_name": "pytorch20250413",
   "language": "python",
   "name": "python3"
  },
  "language_info": {
   "codemirror_mode": {
    "name": "ipython",
    "version": 3
   },
   "file_extension": ".py",
   "mimetype": "text/x-python",
   "name": "python",
   "nbconvert_exporter": "python",
   "pygments_lexer": "ipython3",
   "version": "3.12.9"
  }
 },
 "nbformat": 4,
 "nbformat_minor": 5
}
