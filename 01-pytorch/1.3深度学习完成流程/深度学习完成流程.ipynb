{
 "cells": [
  {
   "cell_type": "markdown",
   "id": "160719c6",
   "metadata": {},
   "source": [
    "# 搭建一个完成深度学习训练框架"
   ]
  },
  {
   "cell_type": "markdown",
   "id": "ac24b3eb",
   "metadata": {},
   "source": [
    "## 损失函数"
   ]
  },
  {
   "cell_type": "markdown",
   "id": "5bd6d3d8",
   "metadata": {},
   "source": [
    "- 功能：衡量模型预测值与真实值之间的差异，为优化算法提供优化方向和依据。\n",
    "- 回归损失函数：\n",
    "    - 均方误差（MSE）：对预测值与真实值的误差平方求均值，强调较大误差的惩罚。\n",
    "    - 均绝误差（MAE）：对预测值与真实值的绝对误差求均值，更鲁棒但对大误差不敏感。\n",
    "    - Huber 损失：结合 MSE 和 MAE，适用于对异常值更鲁棒的场景。\n",
    "- 分类损失函数：\n",
    "    - 交叉熵损失（Cross-Entropy Loss）：衡量预测分布与真实分布之间的差异，适用于二分类或多分类任务。\n",
    "    - 二元交叉熵（Binary Cross-Entropy）：专用于二分类任务的交叉熵损失函数。\n",
    "    - 稀疏交叉熵（Sparse Categorical Cross-Entropy）：用于多分类任务，支持整数标签形式。"
   ]
  },
  {
   "cell_type": "code",
   "execution_count": 1,
   "id": "e3fd478d",
   "metadata": {},
   "outputs": [],
   "source": [
    "import torch\n",
    "import torch.nn as nn\n",
    "loss = nn.MSELoss()\n",
    "input = torch.randn(3, 5, requires_grad=True)\n",
    "target = torch.randn(3, 5)\n",
    "output = loss(input, target)\n",
    "output.backward()"
   ]
  },
  {
   "cell_type": "markdown",
   "id": "3303a551",
   "metadata": {},
   "source": [
    "## 优化器"
   ]
  },
  {
   "cell_type": "markdown",
   "id": "d06d0f99",
   "metadata": {},
   "source": [
    "- 功能：优化器用于根据损失函数的梯度信息更新模型参数，从而使损失函数的值逐步减小。优化器是深度学习模型训练的关键组件，它通过迭代调整权重参数，帮助模型更快更准确地拟合数据。\n",
    "- SGD：适用于简单模型或需要较强正则化的任务。\n",
    "- Adam：适合大多数深度学习任务，尤其是 NLP、CV 和复杂模型。\n",
    "- RMSProp：多用于 RNN、LSTM 等处理序列数据的任务。\n",
    "- AdamW：适用于需要更好正则化的任务，如深度网络训练。"
   ]
  },
  {
   "cell_type": "code",
   "execution_count": null,
   "id": "745af73e",
   "metadata": {},
   "outputs": [],
   "source": [
    "from torch import optim\n",
    "model = nn.Linear(5, 3)\n",
    "optimizer = optim.SGD(model.parameters(), lr=0.01, momentum=0.9)"
   ]
  },
  {
   "cell_type": "markdown",
   "id": "c9b122cc",
   "metadata": {},
   "source": [
    "## 深度学习完整流程"
   ]
  },
  {
   "cell_type": "markdown",
   "id": "bebeaa54",
   "metadata": {},
   "source": [
    "### 1.导入相关库"
   ]
  },
  {
   "cell_type": "code",
   "execution_count": 1,
   "id": "25dd4006",
   "metadata": {},
   "outputs": [],
   "source": [
    "import torch\n",
    "import torch.nn as nn\n",
    "import torch.optim as optim\n",
    "import torchvision\n",
    "import torchvision.transforms as transforms"
   ]
  },
  {
   "cell_type": "markdown",
   "id": "6bf5513f",
   "metadata": {},
   "source": [
    "### 2.数据处理"
   ]
  },
  {
   "cell_type": "code",
   "execution_count": 2,
   "id": "fe81cc57",
   "metadata": {},
   "outputs": [
    {
     "name": "stderr",
     "output_type": "stream",
     "text": [
      "100%|██████████| 170M/170M [00:23<00:00, 7.23MB/s] \n"
     ]
    }
   ],
   "source": [
    "# 数据预处理\n",
    "transform = transforms.Compose([\n",
    "    transforms.Resize(64),\n",
    "    transforms.ToTensor(),\n",
    "    transforms.Normalize((0.5, 0.5, 0.5), (0.5, 0.5, 0.5))\n",
    "])\n",
    "\n",
    "# 加载数据\n",
    "trainset = torchvision.datasets.CIFAR10(root='./data', train=True,\n",
    "                                      download=True, transform=transform)\n",
    "trainloader = torch.utils.data.DataLoader(trainset, batch_size=64,\n",
    "                                        shuffle=True, num_workers=2)\n",
    "\n",
    "testset = torchvision.datasets.CIFAR10(root='./data', train=False,\n",
    "                                     download=True, transform=transform)\n",
    "testloader = torch.utils.data.DataLoader(testset, batch_size=64,\n",
    "                                       shuffle=False, num_workers=2)"
   ]
  },
  {
   "cell_type": "markdown",
   "id": "0d5f6893",
   "metadata": {},
   "source": [
    "### 3.模型搭建"
   ]
  },
  {
   "cell_type": "code",
   "execution_count": 4,
   "id": "161276f3",
   "metadata": {},
   "outputs": [],
   "source": [
    "class AlexNet(nn.Module):\n",
    "    def __init__(self, num_classes=10):\n",
    "        super(AlexNet, self).__init__()\n",
    "        self.features = nn.Sequential(\n",
    "            nn.Conv2d(3, 64, kernel_size=3, stride=2, padding=1),\n",
    "            nn.ReLU(inplace=True),\n",
    "            nn.MaxPool2d(kernel_size=2),\n",
    "            nn.Conv2d(64, 192, kernel_size=3, padding=1),\n",
    "            nn.ReLU(inplace=True),\n",
    "            nn.MaxPool2d(kernel_size=2),\n",
    "            nn.Conv2d(192, 384, kernel_size=3, padding=1),\n",
    "            nn.ReLU(inplace=True),\n",
    "            nn.Conv2d(384, 256, kernel_size=3, padding=1),\n",
    "            nn.ReLU(inplace=True),\n",
    "            nn.Conv2d(256, 256, kernel_size=3, padding=1),\n",
    "            nn.ReLU(inplace=True),\n",
    "            nn.MaxPool2d(kernel_size=2),\n",
    "        )\n",
    "        self.classifier = nn.Sequential(\n",
    "            nn.Dropout(),\n",
    "            nn.Linear(256 * 4 * 4, 4096),\n",
    "            nn.ReLU(inplace=True),\n",
    "            nn.Dropout(),\n",
    "            nn.Linear(4096, 4096),\n",
    "            nn.ReLU(inplace=True),\n",
    "            nn.Linear(4096, num_classes),\n",
    "        )\n",
    "\n",
    "    def forward(self, x):\n",
    "        x = self.features(x)\n",
    "        x = x.view(x.size(0), -1)\n",
    "        x = self.classifier(x)\n",
    "        return x"
   ]
  },
  {
   "cell_type": "markdown",
   "id": "7a7de405",
   "metadata": {},
   "source": [
    "### 4.模型训练"
   ]
  },
  {
   "cell_type": "code",
   "execution_count": 5,
   "id": "b2b36a45",
   "metadata": {},
   "outputs": [],
   "source": [
    "# 设置设备\n",
    "device = torch.device(\"cuda:0\" if torch.cuda.is_available() else \"cpu\")\n",
    "# 初始化模型\n",
    "net = AlexNet().to(device)\n",
    "criterion = nn.CrossEntropyLoss()\n",
    "optimizer = optim.SGD(net.parameters(), lr=0.01, momentum=0.9)"
   ]
  },
  {
   "cell_type": "code",
   "execution_count": 6,
   "id": "508e10d9",
   "metadata": {},
   "outputs": [
    {
     "name": "stdout",
     "output_type": "stream",
     "text": [
      "[1,   100] loss: 2.303\n",
      "[1,   200] loss: 2.303\n",
      "[1,   300] loss: 2.301\n",
      "[1,   400] loss: 2.269\n",
      "[1,   500] loss: 2.071\n",
      "[1,   600] loss: 1.917\n",
      "[1,   700] loss: 1.803\n",
      "[2,   100] loss: 1.683\n",
      "[2,   200] loss: 1.587\n",
      "[2,   300] loss: 1.548\n",
      "[2,   400] loss: 1.483\n",
      "[2,   500] loss: 1.497\n",
      "[2,   600] loss: 1.433\n",
      "[2,   700] loss: 1.394\n",
      "Finished Training\n"
     ]
    }
   ],
   "source": [
    "num_epochs = 2\n",
    "for epoch in range(num_epochs):\n",
    "    running_loss = 0.0\n",
    "    for i, data in enumerate(trainloader, 0):\n",
    "        inputs, labels = data[0].to(device), data[1].to(device)\n",
    "\n",
    "        optimizer.zero_grad()\n",
    "        outputs = net(inputs)\n",
    "        loss = criterion(outputs, labels)\n",
    "        loss.backward()\n",
    "        optimizer.step()\n",
    "\n",
    "        running_loss += loss.item()\n",
    "        if i % 100 == 99:\n",
    "            print(f'[{epoch + 1},{i + 1:5d}] loss: {running_loss / 100:.3f}')\n",
    "            running_loss = 0.0\n",
    "\n",
    "print('Finished Training')"
   ]
  },
  {
   "cell_type": "markdown",
   "id": "d3738bd0",
   "metadata": {},
   "source": [
    "### 5模型验证"
   ]
  },
  {
   "cell_type": "code",
   "execution_count": 7,
   "id": "7b936f3f",
   "metadata": {},
   "outputs": [
    {
     "name": "stdout",
     "output_type": "stream",
     "text": [
      "Accuracy on test set: 51.21%\n"
     ]
    }
   ],
   "source": [
    "# 测试模型\n",
    "correct = 0\n",
    "total = 0\n",
    "with torch.no_grad():\n",
    "    for data in testloader:\n",
    "        images, labels = data[0].to(device), data[1].to(device)\n",
    "        outputs = net(images)\n",
    "        _, predicted = torch.max(outputs.data, 1)\n",
    "        total += labels.size(0)\n",
    "        correct += (predicted == labels).sum().item()\n",
    "\n",
    "print(f'Accuracy on test set: {100 * correct / total}%')"
   ]
  }
 ],
 "metadata": {
  "kernelspec": {
   "display_name": "pytorch20250413",
   "language": "python",
   "name": "python3"
  },
  "language_info": {
   "codemirror_mode": {
    "name": "ipython",
    "version": 3
   },
   "file_extension": ".py",
   "mimetype": "text/x-python",
   "name": "python",
   "nbconvert_exporter": "python",
   "pygments_lexer": "ipython3",
   "version": "3.12.9"
  }
 },
 "nbformat": 4,
 "nbformat_minor": 5
}
