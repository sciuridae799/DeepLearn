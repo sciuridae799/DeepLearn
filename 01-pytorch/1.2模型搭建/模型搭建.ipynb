{
 "cells": [
  {
   "cell_type": "markdown",
   "id": "831a8e05",
   "metadata": {},
   "source": [
    "# 1.模型结构搭建"
   ]
  },
  {
   "cell_type": "markdown",
   "id": "817330f0",
   "metadata": {},
   "source": [
    "深度学习与经典机器学习的一个最大的区别在于模型结构方面，经典机器学习模型往往有着固定的范式和结构，例如：随机森林就是由指定数量的决策树构成，虽然这里的n_estimators可以任选，但整体来看随机森林模型的结构是确定的；而深度学习模型的基础在于神经网络，即由若干的神经网络层构成，每一层使用的神经网络模块类型可以不同（全连接层、卷积层等等），包含的神经元数量差异也会带来很大的不同。也正因如此，深度学习给使用者提供了更大的设计创新空间。\n",
    "\n",
    "当然，网络架构（Architecture）的设计不需要从零开始，PyTorch这些深度学习框架的一大功能就是提供了基础的神经网络模块（Module），而使用者仅需根据自己的设计意图将其灵活组装起来即可——就像搭积木一般！"
   ]
  },
  {
   "cell_type": "code",
   "execution_count": 1,
   "id": "aead9b9d",
   "metadata": {},
   "outputs": [],
   "source": [
    "from torch import nn\n",
    "import torch\n",
    "from torch.nn import functional as F"
   ]
  },
  {
   "cell_type": "markdown",
   "id": "b88cb0ab",
   "metadata": {},
   "source": [
    "## 1.1线性层（全连接层）"
   ]
  },
  {
   "cell_type": "markdown",
   "id": "5977b0d3",
   "metadata": {},
   "source": [
    "- 功能：将所有输入特征连接起来，用于综合特征并进行分类或回归。\n",
    "- 特点：\n",
    "    - 每个神经元与上一层的所有神经元相连。\n",
    "    - 输出的大小由神经元的数量决定。\n",
    "- 应用：通常在模型的最后几层，用于最终输出预测。"
   ]
  },
  {
   "cell_type": "code",
   "execution_count": 2,
   "id": "2aefeaf3",
   "metadata": {},
   "outputs": [
    {
     "name": "stdout",
     "output_type": "stream",
     "text": [
      "tensor([[-0.0733,  0.0938],\n",
      "        [-0.5255,  0.8249]])\n",
      "tensor([[-0.2552, -0.0646, -0.1035],\n",
      "        [ 0.1195, -0.4522,  0.3056]], grad_fn=<AddmmBackward0>)\n"
     ]
    }
   ],
   "source": [
    "m = nn.Linear(in_features=2, out_features=3)\n",
    "inputs = torch.randn(2, 2)\n",
    "print(inputs)\n",
    "outputs = m(inputs)\n",
    "print(outputs)"
   ]
  },
  {
   "cell_type": "markdown",
   "id": "cdf5d2de",
   "metadata": {},
   "source": [
    "## 1.2卷积层"
   ]
  },
  {
   "cell_type": "markdown",
   "id": "1a676d74",
   "metadata": {},
   "source": [
    "- 功能：提取局部特征，特别适用于图像和时序数据。\n",
    "- 特点：\n",
    "    - 使用卷积核（filter）扫描输入数据，提取边缘、纹理等局部特征。\n",
    "    - 可调参数：卷积核大小、步长（stride）、填充（padding）等。\n",
    "- 应用：主要用于卷积神经网络（CNN）中，如图像分类、目标检测等任务"
   ]
  },
  {
   "cell_type": "code",
   "execution_count": 3,
   "id": "ec728288",
   "metadata": {},
   "outputs": [
    {
     "name": "stdout",
     "output_type": "stream",
     "text": [
      "torch.Size([2, 3, 4, 4])\n",
      "torch.Size([2, 1, 4, 4])\n"
     ]
    }
   ],
   "source": [
    "m = nn.Conv2d(in_channels=3, out_channels=1, kernel_size=3, stride=1, padding=1)\n",
    "inputs = torch.randn(2, 3, 4, 4)\n",
    "print(inputs.shape)\n",
    "outputs = m(inputs)\n",
    "print(outputs.shape)"
   ]
  },
  {
   "cell_type": "markdown",
   "id": "7c2114a0",
   "metadata": {},
   "source": [
    "## 1.3池化层"
   ]
  },
  {
   "cell_type": "markdown",
   "id": "aedce658",
   "metadata": {},
   "source": [
    "- 功能：降维和压缩特征，减少计算量，提高模型的鲁棒性。\n",
    "- 类型：\n",
    "    - 最大池化（Max Pooling）：取窗口内的最大值。\n",
    "    - 平均池化（Average Pooling）：取窗口内的平均值。\n",
    "- 应用：通常与卷积层交替使用。"
   ]
  },
  {
   "cell_type": "code",
   "execution_count": 4,
   "id": "dc2ca773",
   "metadata": {},
   "outputs": [
    {
     "name": "stdout",
     "output_type": "stream",
     "text": [
      "torch.Size([2, 3, 4, 4])\n",
      "torch.Size([2, 3, 2, 2])\n"
     ]
    }
   ],
   "source": [
    "m = nn.MaxPool2d(kernel_size=2, stride=2)\n",
    "inputs = torch.randn(2, 3, 4, 4)\n",
    "print(inputs.shape)\n",
    "outputs = m(inputs)\n",
    "print(outputs.shape)"
   ]
  },
  {
   "cell_type": "markdown",
   "id": "3fc3029c",
   "metadata": {},
   "source": [
    "## 1.4激活函数"
   ]
  },
  {
   "cell_type": "markdown",
   "id": "87d58849",
   "metadata": {},
   "source": [
    "- 功能：引入非线性，增强模型的表达能力。\n",
    "- 常见激活函数：\n",
    "    - ReLU（Rectified Linear Unit）：常用于隐藏层。\n",
    "    - Sigmoid：常用于二分类问题的输出层。\n",
    "    - Softmax：用于多分类问题的输出层。\n",
    "    - Tanh：用于某些特定场景。"
   ]
  },
  {
   "cell_type": "code",
   "execution_count": 5,
   "id": "f3912a10",
   "metadata": {},
   "outputs": [
    {
     "name": "stdout",
     "output_type": "stream",
     "text": [
      "torch.Size([2, 3])\n"
     ]
    }
   ],
   "source": [
    "x = torch.randn(2, 3)\n",
    "print(F.relu(x).shape)"
   ]
  },
  {
   "cell_type": "markdown",
   "id": "a73513a3",
   "metadata": {},
   "source": [
    "## 1.5归一化层"
   ]
  },
  {
   "cell_type": "markdown",
   "id": "42aa68bb",
   "metadata": {},
   "source": [
    "- 功能：加速训练，提高模型稳定性。\n",
    "- 类型：\n",
    "    - 批归一化（Batch Normalization）：对每个批次的数据进行归一化。\n",
    "    - 层归一化（Layer Normalization）：对每一层的数据进行归一化。\n",
    "- 应用：常用于深度网络中以防止梯度消失或梯度爆炸。"
   ]
  },
  {
   "cell_type": "code",
   "execution_count": 6,
   "id": "40d500b4",
   "metadata": {},
   "outputs": [
    {
     "name": "stdout",
     "output_type": "stream",
     "text": [
      "tensor([[[[ 2.5365,  0.3870, -0.1164,  0.2676],\n",
      "          [ 1.5227, -1.7113,  1.1136, -0.6260],\n",
      "          [ 1.1938,  0.2248,  1.9933, -0.5470],\n",
      "          [ 0.2528,  0.1072, -0.0306,  1.4356]],\n",
      "\n",
      "         [[-0.6075, -1.5080,  0.2071, -0.2130],\n",
      "          [-1.4075, -0.5103,  0.2406, -0.1766],\n",
      "          [-0.7732,  0.0519, -1.0463,  0.6804],\n",
      "          [-1.8552, -0.0937, -1.1536,  0.3946]],\n",
      "\n",
      "         [[-1.7436, -0.4180,  0.2241, -0.7311],\n",
      "          [ 0.5114,  0.5697, -0.6776,  1.1230],\n",
      "          [ 1.1976,  0.8205, -0.9007, -0.3780],\n",
      "          [-0.2600,  0.3184,  0.1622, -0.5020]]],\n",
      "\n",
      "\n",
      "        [[[-1.2084, -0.1144,  0.8573, -0.2860],\n",
      "          [ 0.4522, -1.2980, -1.1100, -0.5130],\n",
      "          [ 1.5555,  0.5965, -2.4588,  1.1511],\n",
      "          [-0.5226,  0.5959,  0.9648, -0.3850]],\n",
      "\n",
      "         [[ 1.0762,  1.9738, -0.2268, -0.5448],\n",
      "          [ 1.7196,  0.4344, -0.5330, -1.2647],\n",
      "          [ 1.9816,  0.9225, -0.3852, -0.3985],\n",
      "          [-1.4176,  1.9174, -2.6484, -1.5303]],\n",
      "\n",
      "         [[ 0.6794,  0.0695,  0.6561, -2.2800],\n",
      "          [-0.8056,  1.5025,  0.2338,  1.6604],\n",
      "          [-2.3400,  1.1369,  0.7225,  0.7827],\n",
      "          [ 0.1336,  1.3065,  0.6506,  1.0468]]]])\n",
      "tensor([[[[ 2.1553,  0.1756, -0.2880,  0.0657],\n",
      "          [ 1.2216, -1.7567,  0.8448, -0.7573],\n",
      "          [ 0.9187,  0.0262,  1.6550, -0.6845],\n",
      "          [ 0.0520, -0.0821, -0.2089,  1.1413]],\n",
      "\n",
      "         [[-0.3505, -1.1431,  0.3664, -0.0034],\n",
      "          [-1.0546, -0.2650,  0.3959,  0.0287],\n",
      "          [-0.4964,  0.2297, -0.7367,  0.7829],\n",
      "          [-1.4486,  0.1017, -0.8312,  0.5314]],\n",
      "\n",
      "         [[-1.8848, -0.5582,  0.0845, -0.8715],\n",
      "          [ 0.3720,  0.4303, -0.8180,  0.9840],\n",
      "          [ 1.0587,  0.6813, -1.0413, -0.5181],\n",
      "          [-0.4001,  0.1788,  0.0225, -0.6423]]],\n",
      "\n",
      "\n",
      "        [[[-1.2937, -0.2861,  0.6088, -0.4441],\n",
      "          [ 0.2357, -1.3761, -1.2030, -0.6532],\n",
      "          [ 1.2518,  0.3686, -2.4452,  0.8794],\n",
      "          [-0.6621,  0.3680,  0.7078, -0.5353]],\n",
      "\n",
      "         [[ 1.1313,  1.9212, -0.0155, -0.2953],\n",
      "          [ 1.6975,  0.5664, -0.2850, -0.9289],\n",
      "          [ 1.9280,  0.9960, -0.1549, -0.1666],\n",
      "          [-1.0635,  1.8716, -2.1467, -1.1627]],\n",
      "\n",
      "         [[ 0.5401, -0.0703,  0.5168, -2.4216],\n",
      "          [-0.9460,  1.3638,  0.0942,  1.5218],\n",
      "          [-2.4817,  0.9979,  0.5832,  0.6435],\n",
      "          [-0.0061,  1.1677,  0.5112,  0.9078]]]],\n",
      "       grad_fn=<NativeBatchNormBackward0>)\n"
     ]
    }
   ],
   "source": [
    "m = nn.BatchNorm2d(3)\n",
    "inputs = torch.randn(2, 3, 4, 4)\n",
    "print(inputs)\n",
    "print(m(inputs))"
   ]
  },
  {
   "cell_type": "markdown",
   "id": "0f33049a",
   "metadata": {},
   "source": [
    "## 1.6循环层"
   ]
  },
  {
   "cell_type": "markdown",
   "id": "27f0534d",
   "metadata": {},
   "source": [
    "- 功能：用于处理序列数据，捕获时间依赖性。\n",
    "- 类型：\n",
    "    - 简单循环网络（RNN）。\n",
    "    - 长短期记忆网络（LSTM）。\n",
    "    - 门控循环单元（GRU）。\n",
    "- 应用：主要用于自然语言处理、时间序列预测等任务。"
   ]
  },
  {
   "cell_type": "code",
   "execution_count": 7,
   "id": "6c8385e4",
   "metadata": {},
   "outputs": [],
   "source": [
    "rnn = nn.RNN(10, 20, 2)\n",
    "input = torch.randn(5, 3, 10)\n",
    "h0 = torch.randn(2, 3, 20)\n",
    "output, hn = rnn(input, h0)"
   ]
  },
  {
   "cell_type": "code",
   "execution_count": 8,
   "id": "f03afeb7",
   "metadata": {},
   "outputs": [],
   "source": [
    "rnn = nn.LSTM(10, 20, 2)\n",
    "input = torch.randn(5, 3, 10)\n",
    "h0 = torch.randn(2, 3, 20)\n",
    "c0 = torch.randn(2, 3, 20)\n",
    "output, (hn, cn) = rnn(input, (h0, c0))"
   ]
  },
  {
   "cell_type": "code",
   "execution_count": 9,
   "id": "8303df16",
   "metadata": {},
   "outputs": [],
   "source": [
    "rnn = nn.GRU(10, 20, 2)\n",
    "input = torch.randn(5, 3, 10)\n",
    "h0 = torch.randn(2, 3, 20)\n",
    "output, hn = rnn(input, h0)"
   ]
  },
  {
   "cell_type": "markdown",
   "id": "d7666b68",
   "metadata": {},
   "source": [
    "## 1.7Dropout层"
   ]
  },
  {
   "cell_type": "markdown",
   "id": "893d6304",
   "metadata": {},
   "source": [
    "- 功能：随机丢弃部分神经元，防止过拟合。\n",
    "- 特点：\n",
    "    - 在训练阶段随机丢弃，推理阶段保留所有神经元。\n",
    "    - 丢弃比例是一个超参数（如 0.5 表示丢弃 50%）"
   ]
  },
  {
   "cell_type": "code",
   "execution_count": 10,
   "id": "8760ac36",
   "metadata": {},
   "outputs": [
    {
     "name": "stdout",
     "output_type": "stream",
     "text": [
      "tensor([[[[ 0.6562,  1.1819, -0.6612,  0.0488],\n",
      "          [ 0.1650,  0.7617, -0.2739,  2.2296],\n",
      "          [-1.1286, -1.3285, -1.3380, -2.2385],\n",
      "          [ 0.5844,  1.2293, -0.3213, -1.4948]],\n",
      "\n",
      "         [[-0.8440, -0.6661, -0.2623, -1.0485],\n",
      "          [-0.1260,  1.1602, -0.1219,  0.3993],\n",
      "          [-0.9475,  0.3352,  1.0902, -0.3701],\n",
      "          [ 0.3603,  0.2368,  1.7852, -1.4311]],\n",
      "\n",
      "         [[-1.3846, -0.5803, -0.7275,  0.4860],\n",
      "          [-0.3897, -0.1366,  0.6730, -0.6027],\n",
      "          [-0.0125, -0.4207, -0.3735,  1.5968],\n",
      "          [-0.7558,  1.1566,  0.2997, -0.4727]]],\n",
      "\n",
      "\n",
      "        [[[ 1.1133,  0.4340, -0.6724, -0.6159],\n",
      "          [ 1.0488, -0.6575, -1.0524, -0.6648],\n",
      "          [ 0.1163, -1.0748, -0.4455, -1.9232],\n",
      "          [ 1.1048,  0.9456,  1.2264, -0.5542]],\n",
      "\n",
      "         [[-0.5693, -1.0527, -0.1358,  0.1394],\n",
      "          [ 1.1540,  1.7658, -1.0161,  1.4863],\n",
      "          [-0.4111,  0.8375,  0.8287, -0.2332],\n",
      "          [ 0.5378, -0.3942,  0.1947, -0.4537]],\n",
      "\n",
      "         [[-0.3187,  1.2952, -0.4644,  0.0105],\n",
      "          [ 1.5995, -0.7628, -0.9571, -0.7287],\n",
      "          [-0.9156,  1.5927,  0.8216,  0.6284],\n",
      "          [-0.7486,  0.4542, -0.3564, -1.2720]]]])\n",
      "tensor([[[[ 0.0000,  2.3639, -1.3224,  0.0000],\n",
      "          [ 0.0000,  1.5234, -0.5479,  0.0000],\n",
      "          [-2.2572, -0.0000, -2.6759, -0.0000],\n",
      "          [ 0.0000,  0.0000, -0.0000, -2.9897]],\n",
      "\n",
      "         [[-1.6880, -1.3322, -0.0000, -0.0000],\n",
      "          [-0.0000,  2.3203, -0.2439,  0.0000],\n",
      "          [-1.8949,  0.0000,  2.1805, -0.7403],\n",
      "          [ 0.7207,  0.0000,  0.0000, -0.0000]],\n",
      "\n",
      "         [[-2.7691, -0.0000, -1.4550,  0.0000],\n",
      "          [-0.0000, -0.0000,  0.0000, -1.2054],\n",
      "          [-0.0251, -0.8415, -0.7471,  3.1936],\n",
      "          [-1.5117,  2.3132,  0.5994, -0.0000]]],\n",
      "\n",
      "\n",
      "        [[[ 2.2266,  0.8680, -0.0000, -1.2317],\n",
      "          [ 0.0000, -1.3150, -2.1049, -0.0000],\n",
      "          [ 0.0000, -0.0000, -0.8910, -3.8464],\n",
      "          [ 2.2096,  1.8911,  2.4528, -0.0000]],\n",
      "\n",
      "         [[-0.0000, -2.1053, -0.2715,  0.2787],\n",
      "          [ 0.0000,  0.0000, -2.0321,  2.9726],\n",
      "          [-0.8222,  0.0000,  0.0000, -0.4663],\n",
      "          [ 1.0757, -0.0000,  0.0000, -0.9075]],\n",
      "\n",
      "         [[-0.0000,  2.5905, -0.0000,  0.0000],\n",
      "          [ 3.1990, -1.5255, -1.9143, -0.0000],\n",
      "          [-0.0000,  0.0000,  0.0000,  1.2568],\n",
      "          [-0.0000,  0.0000, -0.7128, -2.5440]]]])\n"
     ]
    }
   ],
   "source": [
    "m = nn.Dropout(p=0.5)\n",
    "inputs = torch.randn(2, 3, 4, 4)\n",
    "print(inputs)\n",
    "print(m(inputs))"
   ]
  },
  {
   "cell_type": "markdown",
   "id": "7a261c36",
   "metadata": {},
   "source": [
    "## 1.8完整的模型搭建"
   ]
  },
  {
   "cell_type": "code",
   "execution_count": 11,
   "id": "79373d40",
   "metadata": {},
   "outputs": [
    {
     "name": "stdout",
     "output_type": "stream",
     "text": [
      "MLP(\n",
      "  (fc1): Linear(in_features=10, out_features=64, bias=True)\n",
      "  (fc2): Linear(in_features=64, out_features=1, bias=True)\n",
      "  (relu): ReLU()\n",
      "  (sigmoid): Sigmoid()\n",
      ")\n"
     ]
    }
   ],
   "source": [
    "import torch\n",
    "from torch import nn\n",
    "from torch.nn import functional as F\n",
    "import torch.optim as optim\n",
    "\n",
    "# 定义 MLP 模型\n",
    "class MLP(nn.Module):\n",
    "    def __init__(self, input_size, hidden_size, output_size):\n",
    "        super(MLP, self).__init__()\n",
    "        \n",
    "        # 定义输入层到隐藏层的全连接层\n",
    "        self.fc1 = nn.Linear(input_size, hidden_size)\n",
    "        \n",
    "        # 定义隐藏层到输出层的全连接层\n",
    "        self.fc2 = nn.Linear(hidden_size, output_size)\n",
    "\n",
    "         # 激活函数\n",
    "        self.relu = nn.ReLU()\n",
    "        \n",
    "        # 输出层使用 Sigmoid 激活函数（因为是二分类问题）\n",
    "        self.sigmoid = nn.Sigmoid()\n",
    "\n",
    "    def forward(self, x):\n",
    "        # 输入通过第一个全连接层并激活\n",
    "        x = self.fc1(x)\n",
    "        x = self.relu(x)\n",
    "        \n",
    "        # 输入通过第二个全连接层\n",
    "        x = self.fc2(x)\n",
    "        \n",
    "        # 使用 Sigmoid 激活函数得到概率值\n",
    "        x = self.sigmoid(x)\n",
    "        \n",
    "        return x\n",
    "    \n",
    "# 实例化 MLP 模型\n",
    "input_size = 10  # 输入特征的维度\n",
    "hidden_size = 64  # 隐藏层的维度\n",
    "output_size = 1  # 输出层的维度（对于二分类问题，输出层通常只有一个神经元）\n",
    "\n",
    "model = MLP(input_size, hidden_size, output_size)\n",
    "\n",
    "# 打印模型结构\n",
    "print(model)"
   ]
  },
  {
   "cell_type": "code",
   "execution_count": 13,
   "id": "6548127d",
   "metadata": {},
   "outputs": [
    {
     "name": "stdout",
     "output_type": "stream",
     "text": [
      "AlexNet(\n",
      "  (features): Sequential(\n",
      "    (0): Conv2d(3, 96, kernel_size=(11, 11), stride=(4, 4), padding=(2, 2))\n",
      "    (1): ReLU(inplace=True)\n",
      "    (2): MaxPool2d(kernel_size=3, stride=2, padding=0, dilation=1, ceil_mode=False)\n",
      "    (3): Conv2d(96, 256, kernel_size=(5, 5), stride=(1, 1), padding=(2, 2))\n",
      "    (4): ReLU(inplace=True)\n",
      "    (5): MaxPool2d(kernel_size=3, stride=2, padding=0, dilation=1, ceil_mode=False)\n",
      "    (6): Conv2d(256, 384, kernel_size=(3, 3), stride=(1, 1), padding=(1, 1))\n",
      "    (7): ReLU(inplace=True)\n",
      "    (8): Conv2d(384, 384, kernel_size=(3, 3), stride=(1, 1), padding=(1, 1))\n",
      "    (9): ReLU(inplace=True)\n",
      "    (10): Conv2d(384, 256, kernel_size=(3, 3), stride=(1, 1), padding=(1, 1))\n",
      "    (11): ReLU(inplace=True)\n",
      "    (12): MaxPool2d(kernel_size=3, stride=2, padding=0, dilation=1, ceil_mode=False)\n",
      "  )\n",
      "  (classifier): Sequential(\n",
      "    (0): Dropout(p=0.5, inplace=False)\n",
      "    (1): Linear(in_features=9216, out_features=4096, bias=True)\n",
      "    (2): ReLU(inplace=True)\n",
      "    (3): Dropout(p=0.5, inplace=False)\n",
      "    (4): Linear(in_features=4096, out_features=4096, bias=True)\n",
      "    (5): ReLU(inplace=True)\n",
      "    (6): Linear(in_features=4096, out_features=10, bias=True)\n",
      "  )\n",
      ")\n",
      "----------------------------------------------------------------\n",
      "        Layer (type)               Output Shape         Param #\n",
      "================================================================\n",
      "            Conv2d-1           [-1, 96, 55, 55]          34,944\n",
      "              ReLU-2           [-1, 96, 55, 55]               0\n",
      "         MaxPool2d-3           [-1, 96, 27, 27]               0\n",
      "            Conv2d-4          [-1, 256, 27, 27]         614,656\n",
      "              ReLU-5          [-1, 256, 27, 27]               0\n",
      "         MaxPool2d-6          [-1, 256, 13, 13]               0\n",
      "            Conv2d-7          [-1, 384, 13, 13]         885,120\n",
      "              ReLU-8          [-1, 384, 13, 13]               0\n",
      "            Conv2d-9          [-1, 384, 13, 13]       1,327,488\n",
      "             ReLU-10          [-1, 384, 13, 13]               0\n",
      "           Conv2d-11          [-1, 256, 13, 13]         884,992\n",
      "             ReLU-12          [-1, 256, 13, 13]               0\n",
      "        MaxPool2d-13            [-1, 256, 6, 6]               0\n",
      "          Dropout-14                 [-1, 9216]               0\n",
      "           Linear-15                 [-1, 4096]      37,752,832\n",
      "             ReLU-16                 [-1, 4096]               0\n",
      "          Dropout-17                 [-1, 4096]               0\n",
      "           Linear-18                 [-1, 4096]      16,781,312\n",
      "             ReLU-19                 [-1, 4096]               0\n",
      "           Linear-20                   [-1, 10]          40,970\n",
      "================================================================\n",
      "Total params: 58,322,314\n",
      "Trainable params: 58,322,314\n",
      "Non-trainable params: 0\n",
      "----------------------------------------------------------------\n",
      "Input size (MB): 0.57\n",
      "Forward/backward pass size (MB): 11.08\n",
      "Params size (MB): 222.48\n",
      "Estimated Total Size (MB): 234.14\n",
      "----------------------------------------------------------------\n"
     ]
    }
   ],
   "source": [
    "import torch\n",
    "import torch.nn as nn\n",
    "import torch.optim as optim\n",
    "from torchsummary import summary\n",
    "\n",
    "class AlexNet(nn.Module):\n",
    "    def __init__(self, num_classes=1000):\n",
    "        super(AlexNet, self).__init__()\n",
    "        # 定义卷积层\n",
    "        self.features = nn.Sequential(\n",
    "            nn.Conv2d(3, 96, kernel_size=11, stride=4, padding=2),  # 第1层卷积\n",
    "            nn.ReLU(inplace=True),\n",
    "            nn.MaxPool2d(kernel_size=3, stride=2),  # 最大池化\n",
    "            \n",
    "            nn.Conv2d(96, 256, kernel_size=5, padding=2),  # 第2层卷积\n",
    "            nn.ReLU(inplace=True),\n",
    "            nn.MaxPool2d(kernel_size=3, stride=2),  # 最大池化\n",
    "            \n",
    "            nn.Conv2d(256, 384, kernel_size=3, padding=1),  # 第3层卷积\n",
    "            nn.ReLU(inplace=True),\n",
    "            \n",
    "            nn.Conv2d(384, 384, kernel_size=3, padding=1),  # 第4层卷积\n",
    "            nn.ReLU(inplace=True),\n",
    "            \n",
    "            nn.Conv2d(384, 256, kernel_size=3, padding=1),  # 第5层卷积\n",
    "            nn.ReLU(inplace=True),\n",
    "            nn.MaxPool2d(kernel_size=3, stride=2)  # 最大池化\n",
    "        )\n",
    "\n",
    "        # 定义全连接层\n",
    "        self.classifier = nn.Sequential(\n",
    "            nn.Dropout(),\n",
    "            nn.Linear(256 * 6 * 6, 4096),  # 256通道，6x6图像大小\n",
    "            nn.ReLU(inplace=True),\n",
    "            nn.Dropout(),\n",
    "            nn.Linear(4096, 4096),\n",
    "            nn.ReLU(inplace=True),\n",
    "            nn.Linear(4096, num_classes)  # 最后一层对应类别数量\n",
    "        )\n",
    "\n",
    "    def forward(self, x):\n",
    "        x = self.features(x)  # 通过卷积层\n",
    "        x = torch.flatten(x, 1)  # 展平\n",
    "        x = self.classifier(x)  # 通过全连接层\n",
    "        return x\n",
    "    \n",
    "# 示例用法\n",
    "model = AlexNet(num_classes=10)  # 用于10类分类\n",
    "print(model)\n",
    "\n",
    "# 打印模型概况\n",
    "summary(model, input_size=(3, 224, 224))  # 输入图像大小为224x224\n"
   ]
  }
 ],
 "metadata": {
  "kernelspec": {
   "display_name": "pytorch20250413",
   "language": "python",
   "name": "python3"
  },
  "language_info": {
   "codemirror_mode": {
    "name": "ipython",
    "version": 3
   },
   "file_extension": ".py",
   "mimetype": "text/x-python",
   "name": "python",
   "nbconvert_exporter": "python",
   "pygments_lexer": "ipython3",
   "version": "3.12.9"
  }
 },
 "nbformat": 4,
 "nbformat_minor": 5
}
